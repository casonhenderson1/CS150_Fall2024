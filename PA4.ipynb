{
 "cells": [
  {
   "cell_type": "markdown",
   "id": "d86b9fcb-852a-4c15-80d3-1f585dd06180",
   "metadata": {},
   "source": [
    "# Assignment 4 - Cason Henderson - Fall 2024 #"
   ]
  },
  {
   "cell_type": "markdown",
   "id": "f9d75899-8e06-4496-98d4-cfe58aee5d46",
   "metadata": {},
   "source": [
    "## Task 1: Input Positive Integer and Factors ##"
   ]
  },
  {
   "cell_type": "code",
   "execution_count": 52,
   "id": "29551bb1-2a88-4e76-874f-e0e48dbaf0d4",
   "metadata": {},
   "outputs": [
    {
     "name": "stdout",
     "output_type": "stream",
     "text": [
      "Please input a positive integer:\n"
     ]
    },
    {
     "name": "stdin",
     "output_type": "stream",
     "text": [
      " 4\n"
     ]
    },
    {
     "name": "stdout",
     "output_type": "stream",
     "text": [
      "1 is a factor of 4\n",
      "2 is a factor of 4\n",
      "4 is a factor of 4\n"
     ]
    }
   ],
   "source": [
    "my_number = -1\n",
    "while my_number < 0:\n",
    "    print('Please input a positive integer:')\n",
    "    my_number = int(input(''))\n",
    "for i in range(1, my_number + 1):\n",
    "    if my_number % i == 0:\n",
    "        print(str(i) + ' is a factor of ' + str(my_number))"
   ]
  },
  {
   "cell_type": "code",
   "execution_count": 54,
   "id": "cbbc3c60-2a60-4261-9c69-b54e775c056d",
   "metadata": {},
   "outputs": [
    {
     "name": "stdout",
     "output_type": "stream",
     "text": [
      "2 is a factor of 4\n",
      "Your number is not prime\n"
     ]
    }
   ],
   "source": [
    "prime_number = True\n",
    "for i in range(2, my_number):\n",
    "    if my_number % i == 0:\n",
    "        prime_number = False\n",
    "        print(str(i) + ' is a factor of ' + str(my_number))\n",
    "    break\n",
    "if prime_number:\n",
    "    print('Your number is prime')\n",
    "else:\n",
    "    print('Your number is not prime')"
   ]
  },
  {
   "cell_type": "markdown",
   "id": "3dcd31e6-9408-4e85-a564-8a898c8b30de",
   "metadata": {},
   "source": [
    "## Task 2: : Language Translator ##"
   ]
  },
  {
   "cell_type": "code",
   "execution_count": 62,
   "id": "940d8299-2486-47a7-9354-2741a1e06e73",
   "metadata": {},
   "outputs": [],
   "source": [
    "translation_dict = {'chair': 'stuhl','cat': 'katze','sorrow': 'traurigkeit','friend': 'freund','love': 'liebe','house': 'haus','water': \n",
    "'wasser','food': 'essen','sun': 'sonne','moon': 'mond'}"
   ]
  },
  {
   "cell_type": "code",
   "execution_count": 64,
   "id": "2af335e7-2a3b-4d96-ad79-5716a5327e0f",
   "metadata": {},
   "outputs": [],
   "source": [
    "def translate_word(word):\n",
    "    \"\"\"Return the translated words\"\"\"\n",
    "    return translation_dict.get(word, None)"
   ]
  },
  {
   "cell_type": "code",
   "execution_count": 66,
   "id": "4c38422b-b271-4d7a-bfc1-4bb1584e8bd0",
   "metadata": {},
   "outputs": [],
   "source": [
    "def main():\n",
    "    print(\"Enter a word to translate from English to German (hit enter to stop):\")\n",
    "    while True:\n",
    "        word = input(\":\")\n",
    "        if word == \"\":\n",
    "            break\n",
    "        translation = translate_word(word.lower())\n",
    "        if translation:\n",
    "            print(f\"The German word for {word} is {translation.lower()}.\")\n",
    "        else:\n",
    "            print(f\"The German word for {word} is not in this dictionary.\")"
   ]
  },
  {
   "cell_type": "code",
   "execution_count": 68,
   "id": "9c6aea31-fbad-4ef8-a175-4934f823f310",
   "metadata": {},
   "outputs": [
    {
     "name": "stdout",
     "output_type": "stream",
     "text": [
      "Enter a word to translate from English to German (hit enter to stop):\n"
     ]
    },
    {
     "name": "stdin",
     "output_type": "stream",
     "text": [
      ":  chair\n"
     ]
    },
    {
     "name": "stdout",
     "output_type": "stream",
     "text": [
      "The German word for chair is stuhl.\n"
     ]
    },
    {
     "name": "stdin",
     "output_type": "stream",
     "text": [
      ":  cat\n"
     ]
    },
    {
     "name": "stdout",
     "output_type": "stream",
     "text": [
      "The German word for cat is katze.\n"
     ]
    },
    {
     "name": "stdin",
     "output_type": "stream",
     "text": [
      ":  \n"
     ]
    }
   ],
   "source": [
    "main()"
   ]
  },
  {
   "cell_type": "markdown",
   "id": "7ea4ddda-a3e1-4a46-abe7-3b5391ad90b6",
   "metadata": {},
   "source": [
    "## Task 3: Temperature Summaries ##"
   ]
  },
  {
   "cell_type": "code",
   "execution_count": 52,
   "id": "2a514bdd-b307-4222-af8a-f095cc008cdd",
   "metadata": {},
   "outputs": [],
   "source": [
    "temp_dict = {'January':[43, 6], 'February':[49, 3], 'March':[54, 27], 'April':[69, 42], 'May':[88, 63], 'June':[102, 81],\n",
    "'July':[100, 87], 'August':[105, 78], 'September':[95, 67], 'October':[71, 35], 'November':[51, 27], 'December':[39, 12]}"
   ]
  },
  {
   "cell_type": "code",
   "execution_count": 54,
   "id": "41642f87-8394-43c8-a8ff-03e970173849",
   "metadata": {},
   "outputs": [],
   "source": [
    "def temp_months(month):\n",
    "    return temp_dict.get(month, None)"
   ]
  },
  {
   "cell_type": "code",
   "execution_count": 66,
   "id": "2a017d4f-8d58-466d-ab51-23e737e09355",
   "metadata": {},
   "outputs": [
    {
     "name": "stdout",
     "output_type": "stream",
     "text": [
      "Please input a month:\n"
     ]
    },
    {
     "name": "stdin",
     "output_type": "stream",
     "text": [
      " March\n"
     ]
    },
    {
     "name": "stdout",
     "output_type": "stream",
     "text": [
      "The average high temperature in Louisville for January is 54 and the average low is 27\n",
      "Please input a month:\n"
     ]
    },
    {
     "name": "stdin",
     "output_type": "stream",
     "text": [
      " quit\n"
     ]
    },
    {
     "ename": "TypeError",
     "evalue": "'NoneType' object is not subscriptable",
     "output_type": "error",
     "traceback": [
      "\u001b[1;31m---------------------------------------------------------------------------\u001b[0m",
      "\u001b[1;31mTypeError\u001b[0m                                 Traceback (most recent call last)",
      "Cell \u001b[1;32mIn[66], line 9\u001b[0m\n\u001b[0;32m      7\u001b[0m month \u001b[38;5;241m=\u001b[39m (\u001b[38;5;28minput\u001b[39m(\u001b[38;5;124m'\u001b[39m\u001b[38;5;124m'\u001b[39m))\n\u001b[0;32m      8\u001b[0m temp_range \u001b[38;5;241m=\u001b[39m temp_months(month)\n\u001b[1;32m----> 9\u001b[0m temp_high \u001b[38;5;241m=\u001b[39m temp_range[\u001b[38;5;241m0\u001b[39m]\n\u001b[0;32m     10\u001b[0m temp_low \u001b[38;5;241m=\u001b[39m temp_range[\u001b[38;5;241m1\u001b[39m]\n\u001b[0;32m     11\u001b[0m \u001b[38;5;28mprint\u001b[39m(\u001b[38;5;124mf\u001b[39m\u001b[38;5;124m\"\u001b[39m\u001b[38;5;124mThe average high temperature in Louisville for January is \u001b[39m\u001b[38;5;132;01m{\u001b[39;00mtemp_high\u001b[38;5;132;01m}\u001b[39;00m\u001b[38;5;124m and the average low is \u001b[39m\u001b[38;5;132;01m{\u001b[39;00mtemp_low\u001b[38;5;132;01m}\u001b[39;00m\u001b[38;5;124m\"\u001b[39m)\n",
      "\u001b[1;31mTypeError\u001b[0m: 'NoneType' object is not subscriptable"
     ]
    }
   ],
   "source": [
    "month = ''\n",
    "while month != 'quit':\n",
    "    if month == 'quit':\n",
    "        break\n",
    "    elif month != 'quit':\n",
    "        print('Please input a month:')\n",
    "        month = (input(''))\n",
    "        temp_range = temp_months(month)\n",
    "        temp_high = temp_range[0]\n",
    "        temp_low = temp_range[1]\n",
    "        print(f\"The average high temperature in Louisville for January is {temp_high} and the average low is {temp_low}\")"
   ]
  },
  {
   "cell_type": "markdown",
   "id": "e717a8ef-c265-4caa-a849-a3ada815d04d",
   "metadata": {},
   "source": [
    "## Task 4: Inventory Dictionary and Prices ##"
   ]
  },
  {
   "cell_type": "code",
   "execution_count": 10,
   "id": "3197ea37-df42-4fc5-8387-5a041e2f5d97",
   "metadata": {},
   "outputs": [],
   "source": [
    "dict_inventory = {'hammer':[15, 12.49], 'wrench':[20, 7.99], 'screwdriver':[40, 3.99], 'nailgun':[10, 36.59], 'padlock':[25, 5.99],\n",
    "'roll_of_duct_tape':[30, 4.95]}"
   ]
  },
  {
   "cell_type": "code",
   "execution_count": 12,
   "id": "55ccaed7-ce13-4fda-bc40-f237544fb91f",
   "metadata": {},
   "outputs": [
    {
     "name": "stdout",
     "output_type": "stream",
     "text": [
      "Menu:\n",
      "Check item availability and corresponding price\n",
      "Display items within a budget\n",
      "Total quantity of items available\n",
      "Total price of all items in inventory\n",
      "Exit\n"
     ]
    }
   ],
   "source": [
    "    print('Menu:')\n",
    "    print('Check item availability and corresponding price')\n",
    "    print('Display items within a budget')\n",
    "    print('Total quantity of items available')\n",
    "    print('Total price of all items in inventory')\n",
    "    print('Exit')"
   ]
  },
  {
   "cell_type": "code",
   "execution_count": 16,
   "id": "594a9136-8324-49f2-a871-78a2b94c711a",
   "metadata": {},
   "outputs": [
    {
     "name": "stdin",
     "output_type": "stream",
     "text": [
      "Enter the item name:  hammer\n"
     ]
    },
    {
     "name": "stdout",
     "output_type": "stream",
     "text": [
      "There are 15 hammer(s) available at $12.49 each.\n"
     ]
    },
    {
     "name": "stdin",
     "output_type": "stream",
     "text": [
      "Enter the item name:  wrench\n"
     ]
    },
    {
     "name": "stdout",
     "output_type": "stream",
     "text": [
      "There are 20 wrench(s) available at $7.99 each.\n"
     ]
    },
    {
     "name": "stdin",
     "output_type": "stream",
     "text": [
      "Enter the item name:  quit\n"
     ]
    },
    {
     "name": "stdout",
     "output_type": "stream",
     "text": [
      "quit is not available.\n"
     ]
    }
   ],
   "source": [
    "item_name = ''\n",
    "while item_name != 'quit':\n",
    "    item_name = input('Enter the item name: ').strip().lower()\n",
    "    if item_name in dict_inventory:\n",
    "        quantity, price = dict_inventory[item_name]\n",
    "        print(f\"There are {quantity} {item_name}(s) available at ${price:.2f} each.\")\n",
    "    else:\n",
    "        print(f\"{item_name} is not available.\")"
   ]
  },
  {
   "cell_type": "code",
   "execution_count": 36,
   "id": "c3f585a0-7720-4e4c-800a-c16ab2559187",
   "metadata": {},
   "outputs": [
    {
     "name": "stdout",
     "output_type": "stream",
     "text": [
      "Please input your budget:\n"
     ]
    },
    {
     "name": "stdin",
     "output_type": "stream",
     "text": [
      " 4\n"
     ]
    },
    {
     "name": "stdout",
     "output_type": "stream",
     "text": [
      "screwdriver available under $4.00:\n"
     ]
    }
   ],
   "source": [
    "budget = 6\n",
    "while budget > 0:\n",
    "    print('Please input your budget:')\n",
    "    budget = int(input(''))\n",
    "    for item_name in dict_inventory:\n",
    "        quantity, price = dict_inventory[item_name]\n",
    "        if price < budget:\n",
    "            print(f\"{item_name} available under ${budget:.2f}:\")\n",
    "    break"
   ]
  },
  {
   "cell_type": "code",
   "execution_count": null,
   "id": "7ecc397f-b530-49f7-b9e9-9d1efccc51c8",
   "metadata": {},
   "outputs": [],
   "source": [
    "for item_name in dict_inventory:\n",
    "    quantity, price = dict_inventory[item_name]\n",
    "    total_quantity = quantity + total_quantity\n",
    "print(f\" The total quantity for all items is: {total_quantity}\")"
   ]
  },
  {
   "cell_type": "code",
   "execution_count": 46,
   "id": "5b5bbe04-6b94-424a-84ea-890872b37eaa",
   "metadata": {},
   "outputs": [
    {
     "name": "stdout",
     "output_type": "stream",
     "text": [
      " The total quantity for all items is: 140\n"
     ]
    }
   ],
   "source": [
    "total_quantity = 0\n",
    "for item_name in dict_inventory:\n",
    "    quantity, price = dict_inventory[item_name]\n",
    "    total_quantity = quantity + total_quantity\n",
    "print(f\" The total quantity for all items is: {total_quantity}\")"
   ]
  },
  {
   "cell_type": "code",
   "execution_count": 50,
   "id": "15014ed4-6254-47f9-a160-8cac07ce360c",
   "metadata": {},
   "outputs": [
    {
     "name": "stdout",
     "output_type": "stream",
     "text": [
      " The total price for all items is: 72.0\n"
     ]
    }
   ],
   "source": [
    "total_price = 0\n",
    "for item_name in dict_inventory:\n",
    "    price, quantity = dict_inventory[item_name]\n",
    "    total_price = quantity + total_price\n",
    "print(f\" The total price for all items is: {total_price}\")"
   ]
  }
 ],
 "metadata": {
  "kernelspec": {
   "display_name": "Python 3 (ipykernel)",
   "language": "python",
   "name": "python3"
  },
  "language_info": {
   "codemirror_mode": {
    "name": "ipython",
    "version": 3
   },
   "file_extension": ".py",
   "mimetype": "text/x-python",
   "name": "python",
   "nbconvert_exporter": "python",
   "pygments_lexer": "ipython3",
   "version": "3.12.4"
  }
 },
 "nbformat": 4,
 "nbformat_minor": 5
}
