{
 "cells": [
  {
   "cell_type": "markdown",
   "id": "ee673b4a-1488-4831-b853-0f0b1f3ded75",
   "metadata": {},
   "source": [
    "# Cason Henderson - Markdown Practice #"
   ]
  },
  {
   "cell_type": "markdown",
   "id": "41e8e250-5e4c-43ad-8e8f-db05b605bb80",
   "metadata": {},
   "source": [
    "### Hi. My name is Cason Henderson and I am a junior here at Bellarmine. I am a Business Administration major with a minor in Business Analytics. ###"
   ]
  },
  {
   "cell_type": "markdown",
   "id": "a2729878-3c49-40b7-a249-1f338b0fd9fb",
   "metadata": {},
   "source": [
    "- Intro to Python\n",
    "- Basic Python Syntax\n",
    "- Lists and Tuples"
   ]
  },
  {
   "cell_type": "markdown",
   "id": "76fea31d-bce6-4f5b-be44-dc2267a1bfe7",
   "metadata": {},
   "source": [
    "1. Course Overview, Intro to Programming \n",
    "2. Intro to Python, Variables and Simple Data Types\n",
    "3. List and Tuples \n",
    "4. More on Lists and Tuples\n",
    "5. If Statements\n",
    "6. Dictionaries\n",
    "7. Loops\n",
    "8. Functions\n",
    "9. Class Datatype\n",
    "10. Class Datatype Cont, Files and Exceptions\n",
    "11. Testing and Debugging"
   ]
  },
  {
   "cell_type": "markdown",
   "id": "773e3aa9-7da8-486e-bdc4-ff47c18b72a6",
   "metadata": {},
   "source": [
    "**Python**"
   ]
  },
  {
   "cell_type": "markdown",
   "id": "594e95a3-46be-47e8-aab0-ac9b5d7d8495",
   "metadata": {},
   "source": [
    "*Jupyter Notebook*"
   ]
  },
  {
   "cell_type": "markdown",
   "id": "4e5ed7fe-55c7-4272-b249-d6a7bac5480e",
   "metadata": {},
   "source": [
    "`Today I attended` two classes and also went to swim practice."
   ]
  },
  {
   "cell_type": "markdown",
   "id": "34bbcb5a-f903-4a70-b594-70024605511f",
   "metadata": {},
   "source": [
    "My GitHub account is [Git Hub](https://github.com/casonhenderson1/CS150_Fall2024)."
   ]
  },
  {
   "cell_type": "markdown",
   "id": "b1d36feb-2016-4cb8-859b-25e6eadaeef2",
   "metadata": {},
   "source": [
    "![Bellarmine University Logo!](https://www.bellarmine.edu/sf-images/default-source/marketing/university-seal.png?sfvrsn=b6046380_0)"
   ]
  },
  {
   "cell_type": "markdown",
   "id": "caf073fc-506f-4397-a827-9df82aa7026f",
   "metadata": {},
   "source": [
    "I learned the basics of Markdown through this assignment. I feel confident about the introduction of the class so far and how to create a Git Hub account."
   ]
  },
  {
   "cell_type": "code",
   "execution_count": null,
   "id": "1af10c3b-78fe-42fc-b2fc-355f0b9c769d",
   "metadata": {},
   "outputs": [],
   "source": []
  }
 ],
 "metadata": {
  "kernelspec": {
   "display_name": "Python 3 (ipykernel)",
   "language": "python",
   "name": "python3"
  },
  "language_info": {
   "codemirror_mode": {
    "name": "ipython",
    "version": 3
   },
   "file_extension": ".py",
   "mimetype": "text/x-python",
   "name": "python",
   "nbconvert_exporter": "python",
   "pygments_lexer": "ipython3",
   "version": "3.12.4"
  }
 },
 "nbformat": 4,
 "nbformat_minor": 5
}
