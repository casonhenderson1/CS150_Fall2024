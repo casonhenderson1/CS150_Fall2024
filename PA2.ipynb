{
 "cells": [
  {
   "cell_type": "markdown",
   "id": "5f836413-71c6-4aae-bba6-a61d5c991552",
   "metadata": {},
   "source": [
    "# Assignment 2 - Cason Henderson - Fall 2024 #"
   ]
  },
  {
   "cell_type": "markdown",
   "id": "fe52107d-f405-4be6-9140-fe5eafc11ed5",
   "metadata": {},
   "source": [
    "## Task 1: Personal Information ##"
   ]
  },
  {
   "cell_type": "code",
   "execution_count": 9,
   "id": "8b12013a-821b-42f6-8656-72855db167ef",
   "metadata": {},
   "outputs": [],
   "source": [
    "myname = 'Cason'\n",
    "myage = 20\n",
    "myheight = 70\n",
    "myfavoritecolor = 'blue'"
   ]
  },
  {
   "cell_type": "code",
   "execution_count": 47,
   "id": "1230bb30-5bfc-49a0-ba34-e52b00deeb0b",
   "metadata": {},
   "outputs": [
    {
     "name": "stdout",
     "output_type": "stream",
     "text": [
      "My name is, Cason I am 20 years old, I am 70 in tall, and my favorite color is blue.\n"
     ]
    }
   ],
   "source": [
    "print('My name is, ' + str(myname) + ' I am ' + str(myage) + ' years old, ' 'I am ' + str(myheight) + \n",
    "' in tall, ' 'and my favorite color is ' + str(myfavoritecolor)+ '.')"
   ]
  },
  {
   "cell_type": "markdown",
   "id": "a13261be-9f75-41f1-8b8d-e519202742a7",
   "metadata": {},
   "source": [
    "## Task 2: Temperature Conversion ##"
   ]
  },
  {
   "cell_type": "code",
   "execution_count": 33,
   "id": "9de518a4-a9a6-4642-a195-3da29e7511fc",
   "metadata": {},
   "outputs": [],
   "source": [
    "celsius_temp = 33\n",
    "Fahrenheit_temp = 33*9/5+32"
   ]
  },
  {
   "cell_type": "code",
   "execution_count": 43,
   "id": "a197a609-a481-4dc3-8833-9b4bf5d37ee6",
   "metadata": {},
   "outputs": [
    {
     "name": "stdout",
     "output_type": "stream",
     "text": [
      "The temperature is 33°C, which is equivelent to 91.4°F. \n"
     ]
    }
   ],
   "source": [
    "print('The temperature is ' + str(celsius_temp) + '°C, ' 'which is equivelent to ' + str(Fahrenheit_temp) + '°F. ')"
   ]
  },
  {
   "cell_type": "markdown",
   "id": "46f0c261-4d91-4eaa-a226-35de09684ab4",
   "metadata": {},
   "source": [
    "## Task 3: Simple Calculator ##"
   ]
  },
  {
   "cell_type": "code",
   "execution_count": 59,
   "id": "43ea935f-316c-4c08-bf57-bbc9bccea0a3",
   "metadata": {},
   "outputs": [],
   "source": [
    "num1 = 11\n",
    "num2 = 15"
   ]
  },
  {
   "cell_type": "code",
   "execution_count": 61,
   "id": "598d94b4-31e3-4a07-97d1-532ecbf777d3",
   "metadata": {},
   "outputs": [
    {
     "name": "stdout",
     "output_type": "stream",
     "text": [
      "26\n"
     ]
    }
   ],
   "source": [
    "print(num1 + num2)"
   ]
  },
  {
   "cell_type": "code",
   "execution_count": 63,
   "id": "368f5d64-dd7f-4372-9249-6f0ff7877297",
   "metadata": {},
   "outputs": [
    {
     "name": "stdout",
     "output_type": "stream",
     "text": [
      "-4\n"
     ]
    }
   ],
   "source": [
    "print(num1 - num2)"
   ]
  },
  {
   "cell_type": "code",
   "execution_count": 65,
   "id": "4d1da8eb-6e8c-4c28-8018-7b0625316d97",
   "metadata": {},
   "outputs": [
    {
     "name": "stdout",
     "output_type": "stream",
     "text": [
      "165\n"
     ]
    }
   ],
   "source": [
    "print(num1*num2)"
   ]
  },
  {
   "cell_type": "code",
   "execution_count": 67,
   "id": "6017f8bc-926d-48f6-a2e5-8da6534af1f2",
   "metadata": {},
   "outputs": [
    {
     "name": "stdout",
     "output_type": "stream",
     "text": [
      "0\n"
     ]
    }
   ],
   "source": [
    "print(num1//num2)"
   ]
  },
  {
   "cell_type": "markdown",
   "id": "7271d6de-04d5-4495-9662-52de3d53cd7e",
   "metadata": {},
   "source": [
    "## Task 4: String Manipulation ##"
   ]
  },
  {
   "cell_type": "code",
   "execution_count": 74,
   "id": "56e1542c-a5c1-472a-9a0a-e1910d251db6",
   "metadata": {},
   "outputs": [],
   "source": [
    "myquote = 'Its not about the size of the dog in the fight, its about the size of the fight in the dog.'"
   ]
  },
  {
   "cell_type": "code",
   "execution_count": 80,
   "id": "aa8be1df-2928-4328-8534-49dab5daa1f8",
   "metadata": {},
   "outputs": [
    {
     "name": "stdout",
     "output_type": "stream",
     "text": [
      "91\n"
     ]
    }
   ],
   "source": [
    "print(len(myquote))"
   ]
  },
  {
   "cell_type": "code",
   "execution_count": 82,
   "id": "5f767448-1861-4e60-9417-8c5e7e52e02e",
   "metadata": {},
   "outputs": [
    {
     "name": "stdout",
     "output_type": "stream",
     "text": [
      "ITS NOT ABOUT THE SIZE OF THE DOG IN THE FIGHT, ITS ABOUT THE SIZE OF THE FIGHT IN THE DOG.\n"
     ]
    }
   ],
   "source": [
    "print(myquote.upper())"
   ]
  },
  {
   "cell_type": "code",
   "execution_count": 84,
   "id": "2dd7c6e2-bbcc-4268-b58e-f8925a7b54a5",
   "metadata": {},
   "outputs": [
    {
     "name": "stdout",
     "output_type": "stream",
     "text": [
      "its not about the size of the dog in the fight, its about the size of the fight in the dog.\n"
     ]
    }
   ],
   "source": [
    "print(myquote.lower())"
   ]
  },
  {
   "cell_type": "code",
   "execution_count": 107,
   "id": "2d3ca36b-9f1c-40f2-8636-299293e95686",
   "metadata": {},
   "outputs": [
    {
     "name": "stdout",
     "output_type": "stream",
     "text": [
      "Its not about the size of the dog in the fight, its about the size of the fight in the dog.\n"
     ]
    }
   ],
   "source": [
    "print(myquote.strip())"
   ]
  },
  {
   "cell_type": "code",
   "execution_count": 113,
   "id": "4e35a3f3-4226-4155-a7d3-586e74fb0305",
   "metadata": {},
   "outputs": [
    {
     "name": "stdout",
     "output_type": "stream",
     "text": [
      "['Its', 'not', 'about', 'the', 'size', 'of', 'the', 'dog', 'in', 'the', 'fight,', 'its', 'about', 'the', 'size', 'of', 'the', 'fight', 'in', 'the', 'dog.']\n"
     ]
    }
   ],
   "source": [
    "print(myquote.split())"
   ]
  },
  {
   "cell_type": "markdown",
   "id": "6fdb853f-403d-45a5-b32e-053c2210afa7",
   "metadata": {},
   "source": [
    "## Task 5: User Input and Operations ##"
   ]
  },
  {
   "cell_type": "code",
   "execution_count": 97,
   "id": "a5401ac0-8f9b-4fd2-9f60-38016a2a52f1",
   "metadata": {},
   "outputs": [],
   "source": [
    "import math as math \n",
    "a = 36\n",
    "b = 25"
   ]
  },
  {
   "cell_type": "code",
   "execution_count": 99,
   "id": "393d3d97-25b2-4915-a2a3-40759426f894",
   "metadata": {},
   "outputs": [
    {
     "data": {
      "text/plain": [
       "7.810249675906654"
      ]
     },
     "execution_count": 99,
     "metadata": {},
     "output_type": "execute_result"
    }
   ],
   "source": [
    "math.sqrt((a^2 + b^2))"
   ]
  },
  {
   "cell_type": "code",
   "execution_count": 109,
   "id": "792ae137-5053-4897-abe7-cfcc1d65b0cc",
   "metadata": {},
   "outputs": [
    {
     "name": "stdout",
     "output_type": "stream",
     "text": [
      "The hypotenuse of your triangle is 7.810249675906654 units. Where 7.810249675906654 is the computed hypotenuse, rounded to the nearest one-hundredth.\n"
     ]
    }
   ],
   "source": [
    "print('The hypotenuse of your triangle is 7.810249675906654 units. Where 7.810249675906654 is the computed hypotenuse, rounded to the nearest one-hundredth.')"
   ]
  }
 ],
 "metadata": {
  "kernelspec": {
   "display_name": "Python 3 (ipykernel)",
   "language": "python",
   "name": "python3"
  },
  "language_info": {
   "codemirror_mode": {
    "name": "ipython",
    "version": 3
   },
   "file_extension": ".py",
   "mimetype": "text/x-python",
   "name": "python",
   "nbconvert_exporter": "python",
   "pygments_lexer": "ipython3",
   "version": "3.12.4"
  }
 },
 "nbformat": 4,
 "nbformat_minor": 5
}
