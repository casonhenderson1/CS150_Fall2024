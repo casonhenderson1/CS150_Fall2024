{
 "cells": [
  {
   "cell_type": "markdown",
   "id": "4dad1e94-3706-410f-b3d5-4ed22d779551",
   "metadata": {},
   "source": [
    "Problem 1: You are to write function **game_summary(team1score,team2score)**, which is to take as input the scores for two teams who have competed in a game and _prints_ the following information about the game:\n",
    "1. Who won (Should be \"Team 1 wins\" if team1score > team2score, \"Team 2 wins\" if team1score < team2score, or \"Tie\" if the scores are equal.\n",
    "2. Score differential (difference between the two scores, must be positive)\n",
    "3. Cumulative Score (combined score of the two teams)\n",
    "4. Whether or not either or both teams were shut out (a team is shut out if it scores 0 points\n",
    "\n",
    "Ex 1: game_summary(17, 22) should print the following: <br> _Team1 wins_<br> _Score Differential of 5_<br> _Cumulative Score of 39_ <br> _No teams were shut out._ <br>\n",
    "\n",
    "Ex 2: game_summary(0, 0) should print the following: <br> _Tie_<br> _Score Differential of 0_<br> _Cumulative Score of 0_ <br> _Both teams were shut out._\n"
   ]
  },
  {
   "cell_type": "code",
   "execution_count": 84,
   "id": "a70db339-5d59-4393-a686-450e79791671",
   "metadata": {},
   "outputs": [
    {
     "name": "stdout",
     "output_type": "stream",
     "text": [
      "Team2 wins!\n",
      "Score Differential of: 0\n",
      "Cumulative Score of: 0\n"
     ]
    }
   ],
   "source": [
    "def game_summary(team1score, team2score):\n",
    "    if team1score > team2score:\n",
    "        print('Team1 wins!')\n",
    "    elif team1score < team2score:\n",
    "        print('Team2 wins!')\n",
    "    else:\n",
    "        print('Tie')\n",
    "game_summary(team1score = 17, team2score = 22)\n",
    "score_diff = abs(team1score - team2score)\n",
    "print(f'Score Differential of: {score_diff}')\n",
    "score_cumulative = team1score + team2score\n",
    "print(f'Cumulative Score of: {score_cumulative}')"
   ]
  },
  {
   "cell_type": "code",
   "execution_count": 86,
   "id": "937c3661-6005-45db-9afd-9c964b845a2a",
   "metadata": {},
   "outputs": [
    {
     "name": "stdout",
     "output_type": "stream",
     "text": [
      "Tie\n",
      "Score Differential of: 0\n",
      "Cumulative Score of: 0\n",
      "Both teams were shut out\n"
     ]
    }
   ],
   "source": [
    "game_summary(team1score = 0, team2score = 0)\n",
    "score_diff = abs(team1score - team2score)\n",
    "print(f'Score Differential of: {score_diff}')\n",
    "score_cumulative = team1score + team2score\n",
    "print(f'Cumulative Score of: {score_cumulative}')\n",
    "if team1score == 0 and team2score == 0:\n",
    "    print('Both teams were shut out')\n",
    "elif team1score == 0:\n",
    "    print('Team 1 was shut out')\n",
    "elif team2score == 0:\n",
    "    print('Team 2 was shut out')\n",
    "else:\n",
    "    print('Neither team was shut out')"
   ]
  },
  {
   "cell_type": "markdown",
   "id": "a65e086b-cb74-4040-893f-f69c905fa520",
   "metadata": {},
   "source": [
    "Problem 2: You are to write code to do the following (Note: you _can_ use a function here, but it's not necessary to do so):<br>\n",
    "Take as keyboard input _up to 7_ strings from a user (the user can enter \"Q\" or similar to stop early) and print the following:\n",
    "1. The total sum of characters _across all of the strings_\n",
    "2. The shortest of the strings\n",
    "3. The longest of the strings\n",
    "4. The number of times the string \"Hello\" appears among the ones that are entered. \n",
    "<br> <br> Ex: Assume the following strings are entered from the keyboard:\n",
    "<br>_Please input up to 7 strings (\"Q\" to stop early): Hello_\n",
    "<br>_Please input up to 7 strings (\"Q\" to stop early): Investments_\n",
    "<br>_Please input up to 7 strings (\"Q\" to stop early): Hello_\n",
    "<br>_Please input up to 7 strings (\"Q\" to stop early): Retirement_\n",
    "<br>_Please input up to 7 strings (\"Q\" to stop early): Gold_\n",
    "<br>_Please input up to 7 strings (\"Q\" to stop early): Q_\n",
    "<br><br> The output will be:\n",
    "<br> _A total of 35 characters were input_\n",
    "<br> _The shortest string is \"Gold\"_\n",
    "<br> _The longest string is \"Investments\"_\n",
    "<br> _\"Hello\" appears twice among the input strings._"
   ]
  },
  {
   "cell_type": "code",
   "execution_count": 100,
   "id": "57fccdf8-be50-41cf-93d6-b7e7f97002e2",
   "metadata": {},
   "outputs": [],
   "source": [
    "strings = []\n",
    "hello_count = 0"
   ]
  },
  {
   "cell_type": "code",
   "execution_count": 102,
   "id": "c37dc4c5-f24f-4d25-9a8f-63fe8343428a",
   "metadata": {},
   "outputs": [
    {
     "name": "stdin",
     "output_type": "stream",
     "text": [
      "Please input up to 7 strings (\"Q\" to stop early):  Hello\n",
      "Please input up to 7 strings (\"Q\" to stop early):  Investments\n",
      "Please input up to 7 strings (\"Q\" to stop early):  Hello\n",
      "Please input up to 7 strings (\"Q\" to stop early):  Retirement\n",
      "Please input up to 7 strings (\"Q\" to stop early):  Gold\n",
      "Please input up to 7 strings (\"Q\" to stop early):  Q\n"
     ]
    },
    {
     "name": "stdout",
     "output_type": "stream",
     "text": [
      "A total of 35 characters were input\n",
      "The shortest string is Gold\n",
      "The longest string is Investments\n",
      "Hello appears 2 times among the input strings.\n"
     ]
    }
   ],
   "source": [
    "while len(strings) < 7:\n",
    "    total_characters = sum(len(s) for s in strings)\n",
    "    user_input = input('Please input up to 7 strings (\"Q\" to stop early): ')\n",
    "    if user_input == 'Q':\n",
    "        break\n",
    "    strings.append(user_input)\n",
    "    if user_input == 'Hello':\n",
    "        hello_count += 1\n",
    "\n",
    "if strings:\n",
    "    shortest_string = min(strings, key = len)\n",
    "    longest_string = max(strings, key = len)\n",
    "print(f'A total of {total_characters} characters were input')\n",
    "print(f'The shortest string is {shortest_string}')\n",
    "print(f'The longest string is {longest_string}')\n",
    "print(f'Hello appears {hello_count} times among the input strings.')"
   ]
  }
 ],
 "metadata": {
  "kernelspec": {
   "display_name": "Python 3 (ipykernel)",
   "language": "python",
   "name": "python3"
  },
  "language_info": {
   "codemirror_mode": {
    "name": "ipython",
    "version": 3
   },
   "file_extension": ".py",
   "mimetype": "text/x-python",
   "name": "python",
   "nbconvert_exporter": "python",
   "pygments_lexer": "ipython3",
   "version": "3.12.4"
  }
 },
 "nbformat": 4,
 "nbformat_minor": 5
}
