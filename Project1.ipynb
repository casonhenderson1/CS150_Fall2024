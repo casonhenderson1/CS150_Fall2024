{
 "cells": [
  {
   "cell_type": "markdown",
   "id": "2960810b-de1a-42ba-8279-24f5c81a79ec",
   "metadata": {},
   "source": [
    "# Project 1 - Craps - Sam Jones, Cason Henderson, Zachary Reed #"
   ]
  },
  {
   "cell_type": "code",
   "execution_count": 24,
   "id": "38eed926-4fc0-49fa-bd1e-b64fb896fb90",
   "metadata": {},
   "outputs": [],
   "source": [
    "import random\n",
    "\n",
    "def roll_dice():\n",
    "    die1 = random.randint(1, 6)\n",
    "    die2 = random.randint(1, 6)\n",
    "    return die1 + die2"
   ]
  },
  {
   "cell_type": "code",
   "execution_count": null,
   "id": "fad9a874-f58a-4dad-a20e-85378af42e55",
   "metadata": {},
   "outputs": [
    {
     "name": "stdout",
     "output_type": "stream",
     "text": [
      "Welcome to Craps!\n",
      "\n",
      "You rolled: 5\n",
      "Point is established: 5\n",
      "Keep rolling until you hit the point or roll a 7.\n",
      "You rolled: 10\n",
      "You rolled: 7\n",
      "You rolled a 7! You lose!\n"
     ]
    }
   ],
   "source": [
    "def play_craps():\n",
    "    print(\"Welcome to Craps!\")\n",
    "    \n",
    "    while True:\n",
    "        #Begins the first role of Craps\n",
    "        out_roll = roll_dice()\n",
    "        print(f\"\\nYou rolled: {out_roll}\")\n",
    "        \n",
    "        #First check for instant win\n",
    "        if out_roll in [7, 11]:\n",
    "            print(\"You win!\")\n",
    "            break\n",
    "        elif out_roll in [2, 3, 12]:\n",
    "            print(\"You lose!\")\n",
    "            break\n",
    "        else:\n",
    "            #This sets the point\n",
    "            point = out_roll\n",
    "            print(f\"Point is established: {point}\")\n",
    "            print(\"Keep rolling until you hit the point or roll a 7.\")\n",
    "            \n",
    "            #Keep rolling until the user wins or loses\n",
    "            while True:\n",
    "                roll = roll_dice()\n",
    "                print(f\"You rolled: {roll}\")\n",
    "                \n",
    "                if roll == point:\n",
    "                    print(f\"You hit your point {point}! You win!\")\n",
    "                    break\n",
    "                elif roll == 7:\n",
    "                    print(\"You rolled a 7! You lose!\")\n",
    "                    break\n",
    "        \n",
    "        #Ask if the user wants to play again\n",
    "        play_again = input(\"\\nDo you want to play again? (y/n): \").lower()\n",
    "        if play_again != 'y':\n",
    "            print(\"Thanks for playing! Goodbye!\")\n",
    "            break\n",
    "\n",
    "#Starts the game\n",
    "play_craps()"
   ]
  },
  {
   "cell_type": "code",
   "execution_count": null,
   "id": "c2d7e063-5952-49e0-8d21-b4dbdff2e4d2",
   "metadata": {},
   "outputs": [],
   "source": []
  }
 ],
 "metadata": {
  "kernelspec": {
   "display_name": "Python 3 (ipykernel)",
   "language": "python",
   "name": "python3"
  },
  "language_info": {
   "codemirror_mode": {
    "name": "ipython",
    "version": 3
   },
   "file_extension": ".py",
   "mimetype": "text/x-python",
   "name": "python",
   "nbconvert_exporter": "python",
   "pygments_lexer": "ipython3",
   "version": "3.12.4"
  }
 },
 "nbformat": 4,
 "nbformat_minor": 5
}
