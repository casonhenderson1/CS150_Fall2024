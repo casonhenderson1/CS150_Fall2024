{
 "cells": [
  {
   "cell_type": "markdown",
   "id": "a0e82d64-90c4-48ea-8c2b-a7c88b2c9f43",
   "metadata": {},
   "source": [
    "# Assignment 5 - Cason Henderson - Fall 2024 #"
   ]
  },
  {
   "cell_type": "markdown",
   "id": "16ba5d0e-0860-4f61-93d3-fb488c3c3654",
   "metadata": {},
   "source": [
    "## Task 1: Weekend Activities as Sets ##"
   ]
  },
  {
   "cell_type": "code",
   "execution_count": 21,
   "id": "e3b9f35e-48c8-4341-bee0-bba5540550d9",
   "metadata": {},
   "outputs": [
    {
     "name": "stdin",
     "output_type": "stream",
     "text": [
      "Enter an activity from last Saturday (\"Done\" to stop):  Golf\n",
      "Enter an activity from last Saturday (\"Done\" to stop):  Homework\n",
      "Enter an activity from last Saturday (\"Done\" to stop):  Swim\n",
      "Enter an activity from last Saturday (\"Done\" to stop):  Done\n"
     ]
    }
   ],
   "source": [
    "actSat = set()\n",
    "while True:\n",
    "    activity = input('Enter an activity from last Saturday (\"Done\" to stop): ')\n",
    "    if activity == \"Done\":\n",
    "        break\n",
    "    actSat.add(activity)"
   ]
  },
  {
   "cell_type": "code",
   "execution_count": 23,
   "id": "974e5533-c17f-48af-b08e-f5ace47a504e",
   "metadata": {},
   "outputs": [
    {
     "name": "stdin",
     "output_type": "stream",
     "text": [
      "Enter an activity from last Sunday (\"Done\" to stop):  Golf\n",
      "Enter an activity from last Sunday (\"Done\" to stop):  Sleep\n",
      "Enter an activity from last Sunday (\"Done\" to stop):  Church\n",
      "Enter an activity from last Sunday (\"Done\" to stop):  Done\n"
     ]
    },
    {
     "name": "stdout",
     "output_type": "stream",
     "text": [
      "Activities on Saturday: {'Golf', 'Homework', 'Swim'}\n",
      "Activities on Sunday: {'Sleep', 'Golf', 'Church'}\n",
      "Activities done on both days: {'Sleep', 'Golf', 'Church'}\n",
      "Activities done on at least one of the days: {'Golf', 'Homework', 'Swim'}\n"
     ]
    }
   ],
   "source": [
    "actSun = set()\n",
    "while True:\n",
    "    activity = input('Enter an activity from last Sunday (\"Done\" to stop): ')\n",
    "    if activity == \"Done\":\n",
    "        break\n",
    "    actSun.add(activity)\n",
    "\n",
    "print('Activities on Saturday:', actSat)\n",
    "print('Activities on Sunday:', actSun)\n",
    "\n",
    "both_days = actSat and actSun\n",
    "print('Activities done on both days:', both_days)\n",
    "\n",
    "either_day = actSat or actSun \n",
    "print('Activities done on at least one of the days:', either_day)"
   ]
  },
  {
   "cell_type": "markdown",
   "id": "cf7081af-731a-47f8-a2bc-c50624e0df2f",
   "metadata": {},
   "source": [
    "## Task 2: Triangle Calculations ##"
   ]
  },
  {
   "cell_type": "code",
   "execution_count": 39,
   "id": "f283eb33-f35a-408b-9a69-52d1a38e07a5",
   "metadata": {},
   "outputs": [
    {
     "name": "stdin",
     "output_type": "stream",
     "text": [
      "Please input leg 1:  3\n",
      "Please input leg 2:  4\n"
     ]
    },
    {
     "name": "stdout",
     "output_type": "stream",
     "text": [
      "(5.0, 12.0, 6.0)\n"
     ]
    }
   ],
   "source": [
    "import math\n",
    "def triangle_solve(leg1, leg2):\n",
    "    hypotenuse = math.sqrt(leg1**2 + leg2**2)\n",
    "    perimeter = leg1 + leg2 + hypotenuse\n",
    "    area = 0.5 * leg1 * leg2\n",
    "    return (hypotenuse, perimeter, area)\n",
    "leg1 = int(input('Please input leg 1: '))\n",
    "leg2 = int(input('Please input leg 2: '))\n",
    "triangle_result = triangle_solve(leg1, leg2)\n",
    "print(triangle_result)"
   ]
  },
  {
   "cell_type": "markdown",
   "id": "e5c5731d-57dd-495a-ac4d-c29e61508f51",
   "metadata": {},
   "source": [
    "## Task 3: Calculator Class ##"
   ]
  },
  {
   "cell_type": "code",
   "execution_count": 13,
   "id": "13b27245-7e39-491c-b3ba-a9b2df0ef9ba",
   "metadata": {},
   "outputs": [],
   "source": [
    "class Calculator:\n",
    "    def __init__(self):\n",
    "        self.prev_result = 0 \n",
    "        self.total_calculations = 0  \n",
    "    \n",
    "    def add(self, a, b):\n",
    "        result = a + b\n",
    "        self.prev_result = result\n",
    "        self.total_calculations += 1\n",
    "        return result\n",
    "    \n",
    "    def subtract(self, a, b):\n",
    "        result = a - b\n",
    "        self.prev_result = result\n",
    "        self.total_calculations += 1\n",
    "        return result\n",
    "    \n",
    "    def multiply(self, a, b):\n",
    "        result = a * b\n",
    "        self.prev_result = result\n",
    "        self.total_calculations += 1\n",
    "        return result\n",
    "    \n",
    "    def divide(self, a, b):\n",
    "        if b == 0:\n",
    "            return \"Error: Division by zero is not allowed\"\n",
    "        result = a / b\n",
    "        self.prev_result = result\n",
    "        self.total_calculations += 1\n",
    "        return result\n",
    "    \n",
    "    def power(self, a, b):\n",
    "        result = a ** b\n",
    "        self.prev_result = result\n",
    "        self.total_calculations += 1\n",
    "        return result\n",
    "    \n",
    "    def info(self):\n",
    "        print(f\"Previous result: {self.prev_result}\")\n",
    "        print(f\"Total calculations performed: {self.total_calculations}\")"
   ]
  },
  {
   "cell_type": "code",
   "execution_count": 15,
   "id": "557b7ca7-1475-41b2-99e6-4a6aff6a3456",
   "metadata": {},
   "outputs": [
    {
     "name": "stdout",
     "output_type": "stream",
     "text": [
      "8\n",
      "6\n",
      "6\n",
      "3.0\n",
      "8\n",
      "Previous result: 8\n",
      "Total calculations performed: 5\n"
     ]
    }
   ],
   "source": [
    "calc = Calculator()\n",
    "print(calc.add(5, 3))       \n",
    "print(calc.subtract(10, 4)) \n",
    "print(calc.multiply(2, 3))  \n",
    "print(calc.divide(12, 4))    \n",
    "print(calc.power(2, 3))      \n",
    "calc.info()"
   ]
  }
 ],
 "metadata": {
  "kernelspec": {
   "display_name": "Python 3 (ipykernel)",
   "language": "python",
   "name": "python3"
  },
  "language_info": {
   "codemirror_mode": {
    "name": "ipython",
    "version": 3
   },
   "file_extension": ".py",
   "mimetype": "text/x-python",
   "name": "python",
   "nbconvert_exporter": "python",
   "pygments_lexer": "ipython3",
   "version": "3.12.4"
  }
 },
 "nbformat": 4,
 "nbformat_minor": 5
}
