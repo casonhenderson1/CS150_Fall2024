{
 "cells": [
  {
   "cell_type": "markdown",
   "id": "bd03c90b-19ad-4b87-9a52-c6681ddca9a8",
   "metadata": {},
   "source": [
    "# Assignment 3 - Cason Henderson - Fall 2024 #"
   ]
  },
  {
   "cell_type": "markdown",
   "id": "66aba8d2-9fff-4365-ad3e-d087bf580901",
   "metadata": {},
   "source": [
    "## Task 1: Types of Triangles ##"
   ]
  },
  {
   "cell_type": "code",
   "execution_count": 19,
   "id": "49385842-a085-4fa7-bf3e-67bf6dfebf3e",
   "metadata": {},
   "outputs": [
    {
     "name": "stdin",
     "output_type": "stream",
     "text": [
      "First side is:  14\n",
      "Second side is:  14\n",
      "Third side is:  14\n"
     ]
    }
   ],
   "source": [
    "side_1 = float(input('First side is: '))\n",
    "side_2 = float(input('Second side is: '))\n",
    "side_3 = float(input('Third side is: '))"
   ]
  },
  {
   "cell_type": "code",
   "execution_count": 25,
   "id": "95d47bbb-c3c2-4652-862d-ad5cfbc3e1a5",
   "metadata": {},
   "outputs": [
    {
     "name": "stdout",
     "output_type": "stream",
     "text": [
      "The triangle is equilateral\n"
     ]
    }
   ],
   "source": [
    "if side_1 == side_2 == side_3:\n",
    "    print('The triangle is equilateral')\n",
    "elif side_1 == side_2 or side_2 == side_3 or side_1 == side_3:\n",
    "    print('The triangle is isosceles')\n",
    "else:\n",
    "    print('The triangle is scalene')"
   ]
  },
  {
   "cell_type": "markdown",
   "id": "8dc206da-b0c7-40c8-87ff-c26a90964d86",
   "metadata": {},
   "source": [
    "## Task 2: Student Grades and At-Risk Status ##"
   ]
  },
  {
   "cell_type": "code",
   "execution_count": 11,
   "id": "ea7e27e5-06b5-4c3e-ae82-87b23e6f2e2b",
   "metadata": {},
   "outputs": [],
   "source": [
    "student_grades = []"
   ]
  },
  {
   "cell_type": "code",
   "execution_count": 13,
   "id": "448c9ce9-ea10-44e2-8724-09a0262955f0",
   "metadata": {},
   "outputs": [
    {
     "name": "stdin",
     "output_type": "stream",
     "text": [
      "First grade is:  88\n",
      "Second grade is:  82\n",
      "Third grade is:  73\n",
      "Fourth grade is:  77\n",
      "Fifth grade is:  63\n"
     ]
    }
   ],
   "source": [
    "student_grades.append(float(input('First grade is: ')))\n",
    "student_grades.append(float(input('Second grade is: ')))\n",
    "student_grades.append(float(input('Third grade is: ')))\n",
    "student_grades.append(float(input('Fourth grade is: ')))\n",
    "student_grades.append(float(input('Fifth grade is: ')))"
   ]
  },
  {
   "cell_type": "code",
   "execution_count": 23,
   "id": "725623d4-2ae4-46aa-a9b8-bdd4b83e9548",
   "metadata": {},
   "outputs": [
    {
     "name": "stdout",
     "output_type": "stream",
     "text": [
      "63.0\n",
      "88.0\n",
      "76.6\n"
     ]
    }
   ],
   "source": [
    "print(min(student_grades))\n",
    "print(max(student_grades))\n",
    "print(sum(student_grades)/len(student_grades))"
   ]
  },
  {
   "cell_type": "code",
   "execution_count": 15,
   "id": "cd4dba3f-8905-4447-9d77-c1e72c563660",
   "metadata": {},
   "outputs": [
    {
     "name": "stdout",
     "output_type": "stream",
     "text": [
      "[88.0, 82.0, 73.0, 77.0, 63.0]\n"
     ]
    }
   ],
   "source": [
    "print(student_grades)"
   ]
  },
  {
   "cell_type": "code",
   "execution_count": 35,
   "id": "1e642f05-ce68-40a8-9659-4c0a0e9c3618",
   "metadata": {},
   "outputs": [],
   "source": [
    "student_risk = 0\n",
    "for grade in student_grades:\n",
    "    if grade <= 65:\n",
    "        student_risk = student_risk + 1"
   ]
  },
  {
   "cell_type": "code",
   "execution_count": 42,
   "id": "4f505776-5453-4d1b-9ca0-d19fadf06f69",
   "metadata": {},
   "outputs": [
    {
     "name": "stdout",
     "output_type": "stream",
     "text": [
      "1\n"
     ]
    }
   ],
   "source": [
    "print(student_risk)"
   ]
  },
  {
   "cell_type": "code",
   "execution_count": 58,
   "id": "237c285d-9471-472a-a48d-1e177bbb4b76",
   "metadata": {},
   "outputs": [
    {
     "name": "stdout",
     "output_type": "stream",
     "text": [
      "1 students are at risk in the course.\n"
     ]
    }
   ],
   "source": [
    "print(str(student_risk) + ' students are at risk in the course.')"
   ]
  },
  {
   "cell_type": "markdown",
   "id": "6a024287-5c54-4d77-a071-d44635a1f94b",
   "metadata": {},
   "source": [
    "## Task 3: Ranges and Multiples ##"
   ]
  },
  {
   "cell_type": "code",
   "execution_count": 34,
   "id": "129309d8-334a-4c2b-b8c9-adf3aaad785d",
   "metadata": {},
   "outputs": [
    {
     "name": "stdout",
     "output_type": "stream",
     "text": [
      "done\n",
      "[0, 2, 4, 6, 8, 10, 12, 14, 16, 18, 20, 22, 24, 26, 28, 30, 32, 34, 36, 38, 40, 42, 44, 46, 48, 50, 52, 54, 56, 58, 60, 62, 64, 66, 68, 70, 72, 74, 76, 78, 80, 82, 84, 86, 88, 90, 92, 94, 96, 98, 100]\n"
     ]
    }
   ],
   "source": [
    "mult_of_2 = []\n",
    "count = 0\n",
    "while (count <= 100):\n",
    "    #print(count)\n",
    "    mult_of_2.append(count)\n",
    "    count = count + 2\n",
    "print('done')\n",
    "print(mult_of_2)"
   ]
  },
  {
   "cell_type": "code",
   "execution_count": 36,
   "id": "3c65c7a9-643b-4958-80fe-4f810510dff7",
   "metadata": {},
   "outputs": [
    {
     "name": "stdout",
     "output_type": "stream",
     "text": [
      "done\n",
      "[0, 3, 6, 9, 12, 15, 18, 21, 24, 27, 30, 33, 36, 39, 42, 45, 48, 51, 54, 57, 60, 63, 66, 69, 72, 75, 78, 81, 84, 87, 90, 93, 96, 99]\n"
     ]
    }
   ],
   "source": [
    "mult_of_3 = []\n",
    "count = 0\n",
    "while (count <= 100):\n",
    "    #print(count)\n",
    "    mult_of_3.append(count)\n",
    "    count = count + 3\n",
    "print('done')\n",
    "print(mult_of_3)"
   ]
  },
  {
   "cell_type": "code",
   "execution_count": 46,
   "id": "19fc0456-6317-4c33-8ee0-af6d89ba573a",
   "metadata": {},
   "outputs": [
    {
     "name": "stdout",
     "output_type": "stream",
     "text": [
      "[0, 2, 4, 6, 8, 10, 12, 14, 16, 18, 20, 22, 24, 26, 28, 30, 32, 34, 36, 38, 40, 42, 44, 46, 48, 50, 52, 54, 56, 58, 60, 62, 64, 66, 68, 70, 72, 74, 76, 78, 80, 82, 84, 86, 88, 90, 92, 94, 96, 98, 100, 0, 3, 6, 9, 12, 15, 18, 21, 24, 27, 30, 33, 36, 39, 42, 45, 48, 51, 54, 57, 60, 63, 66, 69, 72, 75, 78, 81, 84, 87, 90, 93, 96, 99, 0, 3, 6, 9, 12, 15, 18, 21, 24, 27, 30, 33, 36, 39, 42, 45, 48, 51, 54, 57, 60, 63, 66, 69, 72, 75, 78, 81, 84, 87, 90, 93, 96, 99]\n"
     ]
    }
   ],
   "source": [
    "mult_of_2.extend(mult_of_3)\n",
    "print(mult_of_2)"
   ]
  },
  {
   "cell_type": "code",
   "execution_count": 50,
   "id": "0af23123-ea63-4dd0-8b7f-4e9967b5a260",
   "metadata": {},
   "outputs": [
    {
     "name": "stdout",
     "output_type": "stream",
     "text": [
      "[0, 2, 3, 4, 6, 8, 9, 10, 12, 14, 15, 16, 18, 20, 21, 22, 24, 26, 27, 28, 30, 32, 33, 34, 36, 38, 39, 40, 42, 44, 45, 46, 48, 50, 51, 52, 54, 56, 57, 58, 60, 62, 63, 64, 66, 68, 69, 70, 72, 74, 75, 76, 78, 80, 81, 82, 84, 86, 87, 88, 90, 92, 93, 94, 96, 98, 99, 100]\n"
     ]
    }
   ],
   "source": [
    "mult_of_either = list(set(mult_of_2) or set(mult_of_3))\n",
    "print(mult_of_either)"
   ]
  },
  {
   "cell_type": "markdown",
   "id": "14c51ec8-b6ed-4c06-9793-92aa07768161",
   "metadata": {},
   "source": [
    "## Task 4: Shopping List ##"
   ]
  },
  {
   "cell_type": "code",
   "execution_count": 1,
   "id": "aed81963-03f2-4a13-bee1-4e883e3631c2",
   "metadata": {},
   "outputs": [],
   "source": [
    "shopping_list = []"
   ]
  },
  {
   "cell_type": "code",
   "execution_count": 3,
   "id": "86117b1d-477b-4667-8b5b-c8572c5279d8",
   "metadata": {},
   "outputs": [
    {
     "name": "stdin",
     "output_type": "stream",
     "text": [
      "Add an item (or type \"done\" to finish):  grapes\n",
      "Add an item (or type \"done\" to finish):  bread\n",
      "Add an item (or type \"done\" to finish):  chicken\n",
      "Add an item (or type \"done\" to finish):  beef\n",
      "Add an item (or type \"done\" to finish):  water\n",
      "Add an item (or type \"done\" to finish):  bananas\n",
      "Add an item (or type \"done\" to finish):  milk\n"
     ]
    }
   ],
   "source": [
    "while len(shopping_list) < 7:\n",
    "    item = input('Add an item (or type \"done\" to finish): ')\n",
    "    if item.lower() == 'done':\n",
    "        break\n",
    "    shopping_list.append(item)"
   ]
  },
  {
   "cell_type": "code",
   "execution_count": 16,
   "id": "d77ce08e-d55c-4f67-b3ab-3c0d1cc3d2e1",
   "metadata": {},
   "outputs": [
    {
     "name": "stdout",
     "output_type": "stream",
     "text": [
      "How many items in shopping list:\n",
      "7\n"
     ]
    }
   ],
   "source": [
    "print('How many items in shopping list:')\n",
    "size = len(shopping_list)\n",
    "print(size)"
   ]
  },
  {
   "cell_type": "code",
   "execution_count": 18,
   "id": "1d8a5882-fb8c-4f77-99cc-c43c48d29528",
   "metadata": {},
   "outputs": [
    {
     "name": "stdout",
     "output_type": "stream",
     "text": [
      "Shopping list in reverse order:\n",
      "milk\n",
      "bananas\n",
      "water\n",
      "beef\n",
      "chicken\n",
      "bread\n",
      "grapes\n"
     ]
    }
   ],
   "source": [
    "print('Shopping list in reverse order:')\n",
    "for item in reversed(shopping_list):\n",
    "    print(item)"
   ]
  },
  {
   "cell_type": "code",
   "execution_count": 26,
   "id": "cd612930-dfab-4246-9786-3a8a791052ed",
   "metadata": {},
   "outputs": [
    {
     "name": "stdout",
     "output_type": "stream",
     "text": [
      "Shopping list in alphabetical order:\n",
      "bananas\n",
      "beef\n",
      "bread\n",
      "chicken\n",
      "grapes\n",
      "milk\n",
      "water\n"
     ]
    }
   ],
   "source": [
    "print(\"Shopping list in alphabetical order:\")\n",
    "for item in sorted(shopping_list):\n",
    "    print(item)"
   ]
  },
  {
   "cell_type": "code",
   "execution_count": 52,
   "id": "8734d9b7-0c5b-4da0-b3b2-f7437e108c31",
   "metadata": {},
   "outputs": [
    {
     "name": "stdout",
     "output_type": "stream",
     "text": [
      "No duplicate items found.\n"
     ]
    }
   ],
   "source": [
    "duplicates = set()\n",
    "if duplicates:\n",
    "    print('Duplicate items found in your shopping list:')\n",
    "    for item in duplicates:\n",
    "        print(item)\n",
    "else:\n",
    "    print('No duplicate items found.')"
   ]
  }
 ],
 "metadata": {
  "kernelspec": {
   "display_name": "Python 3 (ipykernel)",
   "language": "python",
   "name": "python3"
  },
  "language_info": {
   "codemirror_mode": {
    "name": "ipython",
    "version": 3
   },
   "file_extension": ".py",
   "mimetype": "text/x-python",
   "name": "python",
   "nbconvert_exporter": "python",
   "pygments_lexer": "ipython3",
   "version": "3.12.4"
  }
 },
 "nbformat": 4,
 "nbformat_minor": 5
}
